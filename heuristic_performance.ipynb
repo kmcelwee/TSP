{
 "cells": [
  {
   "cell_type": "markdown",
   "metadata": {},
   "source": [
    "# Heuristic Performance\n",
    "How well does the heuristic stack up when compared to other models?"
   ]
  },
  {
   "cell_type": "code",
   "execution_count": 1,
   "metadata": {},
   "outputs": [],
   "source": [
    "import os, time, csv, random\n",
    "import pandas as pd\n",
    "import numpy as np\n",
    "import smallest_insertion as si\n",
    "import recursive_clustering as rc"
   ]
  },
  {
   "cell_type": "markdown",
   "metadata": {},
   "source": [
    "## Clean Waterloo Data"
   ]
  },
  {
   "cell_type": "markdown",
   "metadata": {},
   "source": [
    "### Make CSVs"
   ]
  },
  {
   "cell_type": "code",
   "execution_count": 2,
   "metadata": {},
   "outputs": [],
   "source": [
    "# for file in os.listdir('waterloo_data'):\n",
    "#     if not file.startswith('.'):\n",
    "#         df = pd.read_csv('waterloo_data/' + file, sep=' ', index_col=[0], header=None)\n",
    "#         df.to_csv('waterloo_data/{}.csv'.format(file[:-4]), index=False, header=False)"
   ]
  },
  {
   "cell_type": "markdown",
   "metadata": {},
   "source": [
    "### Remove Duplicate Points"
   ]
  },
  {
   "cell_type": "code",
   "execution_count": 3,
   "metadata": {},
   "outputs": [],
   "source": [
    "# for file in os.listdir('waterloo_data'):\n",
    "#     if (not file.startswith('.')) and file.endswith('.csv'):\n",
    "#         df = pd.read_csv('waterloo_data/' + file, header=None)\n",
    "#         all_nodes = [(x, y) for x, y in zip(df[0].tolist(), df[1].tolist())]\n",
    "#         m = np.unique(all_nodes, axis=0)\n",
    "#         df2 = pd.DataFrame()\n",
    "#         df2[0] = [x for x, y in m]\n",
    "#         df2[1] = [y for x, y in m]\n",
    "#         df2.head()\n",
    "#         print(df2.shape)\n",
    "#         df2.to_csv('waterloo_data/final/' + file, header=False, index=False)"
   ]
  },
  {
   "cell_type": "markdown",
   "metadata": {},
   "source": [
    "### Organize and grab lower limit from website"
   ]
  },
  {
   "cell_type": "code",
   "execution_count": 4,
   "metadata": {},
   "outputs": [],
   "source": [
    "country_info = {\n",
    "    'ar': {'country': 'argentina', 'lower_lim': 837377},\n",
    "    'bm': {'country': 'burma', 'lower_lim': 959011},\n",
    "    'ca': {'country': 'canada', 'lower_lim': 1290319},\n",
    "    'ch': {'country': 'china', 'lower_lim': 4565452},\n",
    "    'dj': {'country': 'djibouti', 'lower_lim': 6656},\n",
    "    'eg': {'country': 'egypt', 'lower_lim': 172350},\n",
    "    'ei': {'country': 'ireland', 'lower_lim': 206171},\n",
    "    'fi': {'country': 'finland', 'lower_lim': 520527},\n",
    "    'gr': {'country': 'greece', 'lower_lim': 300899},\n",
    "    'ho': {'country': 'honduras', 'lower_lim': 176940},\n",
    "    'it': {'country': 'italy', 'lower_lim': 557315},\n",
    "    'ja': {'country': 'japan', 'lower_lim': 491924},\n",
    "    'kz': {'country': 'kazakhstan', 'lower_lim': 1061387},\n",
    "    'lu': {'country': 'luxembourg', 'lower_lim': 11340},\n",
    "    'mo': {'country': 'morocco', 'lower_lim': 427246},\n",
    "    'mu': {'country': 'oman', 'lower_lim': 86891},\n",
    "    'nu': {'country': 'nicaragua', 'lower_lim': 96132},\n",
    "    'pm': {'country': 'panama', 'lower_lim': 114831},\n",
    "    'qa': {'country': 'qatar', 'lower_lim': 9352},\n",
    "    'rw': {'country': 'rwanda', 'lower_lim': 26051},\n",
    "    'sw': {'country': 'sweden', 'lower_lim': 855597},\n",
    "    'tz': {'country': 'tanzania', 'lower_lim': 394609},\n",
    "    'vm': {'country': 'vietnam', 'lower_lim': 569288},\n",
    "    'wi': {'country': 'western sahara', 'lower_lim': 27603},\n",
    "    'ym': {'country': 'yemen', 'lower_lim': 238314},\n",
    "    'zi': {'country': 'zimbabwe', 'lower_lim': 95345},\n",
    "}"
   ]
  },
  {
   "cell_type": "markdown",
   "metadata": {},
   "source": [
    "## Run tests"
   ]
  },
  {
   "cell_type": "markdown",
   "metadata": {},
   "source": [
    "### Test Waterloo Data"
   ]
  },
  {
   "cell_type": "code",
   "execution_count": null,
   "metadata": {},
   "outputs": [],
   "source": [
    "for k in country_info.keys():\n",
    "    country_dict = country_info[k]\n",
    "    for file in os.listdir('waterloo_data/final'):\n",
    "        if file.startswith(k): # inefficient, I know.\n",
    "            all_nodes = []\n",
    "            with open('waterloo_data/final/' + file) as f:\n",
    "                for i, row in enumerate(csv.reader(f)):\n",
    "                    all_nodes.append(np.array([float(row[0]), float(row[1])]))\n",
    "            N = len(all_nodes)\n",
    "            \n",
    "            country_dict['N'] = N\n",
    "\n",
    "            # recursive clustering\n",
    "            K = 4\n",
    "            _, country_dict['rc_path'], country_dict['rc_time'] = rc.implement_recursive_clustering(N, K, all_nodes)\n",
    "        print(k)"
   ]
  },
  {
   "cell_type": "code",
   "execution_count": null,
   "metadata": {},
   "outputs": [],
   "source": [
    "df = pd.DataFrame(country_info).T\n",
    "df.to_csv('waterloo_results.csv')"
   ]
  },
  {
   "cell_type": "markdown",
   "metadata": {},
   "source": [
    "### Compare to SI"
   ]
  },
  {
   "cell_type": "code",
   "execution_count": null,
   "metadata": {},
   "outputs": [],
   "source": [
    "test_results = []\n",
    "N = 100\n",
    "number_of_tests = 1000\n",
    "for i in range(number_of_tests):\n",
    "    all_nodes = [[random.random(), random.random()] for _ in range(N)]\n",
    "    _, rc_tour_length, _ = rc.solve_array(all_nodes, K=4, draw=False)\n",
    "    _, si_tour_length = si.nearest_neighbor(all_nodes)\n",
    "    m = [rc_tour_length, si_tour_length]\n",
    "    print(i, end=', ')\n",
    "    test_results.append(m)\n",
    "\n",
    "t = np.array(test_results)\n",
    "new_algorithm_better = t[:, 0] < t[:, 1]\n",
    "sum(new_algorithm_better)/number_of_tests*100"
   ]
  }
 ],
 "metadata": {
  "kernelspec": {
   "display_name": "Python 3",
   "language": "python",
   "name": "python3"
  },
  "language_info": {
   "codemirror_mode": {
    "name": "ipython",
    "version": 3
   },
   "file_extension": ".py",
   "mimetype": "text/x-python",
   "name": "python",
   "nbconvert_exporter": "python",
   "pygments_lexer": "ipython3",
   "version": "3.6.8"
  }
 },
 "nbformat": 4,
 "nbformat_minor": 2
}
